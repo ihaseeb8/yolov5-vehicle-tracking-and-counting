{
 "cells": [
  {
   "cell_type": "markdown",
   "id": "453d58c9-3d6a-4ef3-a034-157796a20970",
   "metadata": {},
   "source": [
    "## Importing required libraries"
   ]
  },
  {
   "cell_type": "code",
   "execution_count": 62,
   "id": "00f20f5a-b88e-4612-9f53-03600c138e2f",
   "metadata": {},
   "outputs": [],
   "source": [
    "import os\n",
    "import xml.etree.ElementTree as ET\n",
    "from PIL import Image\n",
    "import matplotlib.pyplot as plt\n",
    "import cv2"
   ]
  },
  {
   "cell_type": "markdown",
   "id": "b8c57927-968f-42f3-90f4-822149d41886",
   "metadata": {},
   "source": [
    "## Generating Labels"
   ]
  },
  {
   "cell_type": "code",
   "execution_count": 101,
   "id": "5b5980b8-91ae-478e-ab06-df1922054e22",
   "metadata": {},
   "outputs": [],
   "source": [
    "pickup = [ 'bolan', 'pickUp' , 'shehzore' ]\n",
    "\n",
    "suv = [ 'hilux', 'prado', 'datsunWagon', 'jeep', 'fortuner']\n",
    "\n",
    "mini_car = [ 'mehran', 'fX', 'alto', 'core', 'cultus', 'passo', 'vitz','wagonR', 'wagnoR', 'santro', 'kia', 'swift',\n",
    "            'khyber', 'fawV2']\n",
    "\n",
    "sedan = [ 'corolla', 'city', 'prius', 'baleno' , 'civic', 'proBox', 'margalla', 'mercedes-benz', 'camry', 'crv','lancer', 'liana',\n",
    "          'mercedesBenz', 'BMW','accord', 'mercedes-Benz']\n",
    "\n",
    "van = [ 'hiace' , 'every', 'APV', 'apv', 'fawXPV' ]\n",
    "\n",
    "htv = [ 'truck-6X', 'truck-3X-S', 'coaster-bus_S', 'tractor-trolley', 'truck', 'truck-2x', 'truck-2X', 'coaster-bus_L', 'coaster-bus-s',\n",
    "        'truck-4X', 'minitruck', 'otanker-5x', 'otanker', 'truck-3x', 'tractor', 'truck-5X', 'coaster-bus', 'construction-other_machinery',\n",
    "        'otanker-6x', 'otanker-3x', 'otanker-4x', 'coaster-bus-l', 'truck-3X-L', 'coaster-L', 'truck-6x', 'truck-4x', 'tractortrolley',\n",
    "        'otanker-2X', 'coaster-S', 'truck-3X']\n",
    "\n",
    "bike = [ 'mbike' , 'bicycle', 'bi-cycle' ]\n",
    "\n",
    "mini = ['rickshaw', 'animalcart']"
   ]
  },
  {
   "cell_type": "code",
   "execution_count": 107,
   "id": "e870fbbd-59fa-498e-8bed-3431f406b5ee",
   "metadata": {},
   "outputs": [],
   "source": [
    "for filename in os.listdir('JPEGImages'):\n",
    "\n",
    "    fn,_ = filename.split('.')\n",
    "    \n",
    "    tree = ET.parse(f'Annotations/{fn}.xml')\n",
    "    root = tree.getroot()\n",
    "\n",
    "    width = int(root.find('size').find('width').text)\n",
    "    height = int(root.find('size').find('height').text)\n",
    "    # print(\"width : \",width)\n",
    "    # print(\"height : \" ,height)\n",
    "\n",
    "    file = open(f'Labels/{fn}.txt', 'w')\n",
    "\n",
    "    for object in root.iter('object'):\n",
    "\n",
    "        obj_class = 0\n",
    "        \n",
    "        name = object.find('name').text\n",
    "        \n",
    "        xmin = int(object.find('bndbox').find('xmin').text)\n",
    "        ymin = int(object.find('bndbox').find('ymin').text)\n",
    "        xmax = int(object.find('bndbox').find('xmax').text)\n",
    "        ymax = int(object.find('bndbox').find('ymax').text)\n",
    "\n",
    "        # normalizing and converting to yolo format\n",
    "        xcenter = (xmin + xmax) / (2 * width)\n",
    "        ycenter = (ymin + ymax) / (2 * height)\n",
    "        w = (xmax - xmin) / width\n",
    "        h = (ymax - ymin) / height\n",
    "        \n",
    "        # print(f'name : {name}\\t xmin : {xmin}\\t ymin : {ymin}\\t xmax : {xmax}\\t ymax : {ymax}')\n",
    "        # print(f'name : {name}\\t xcenter : {xcenter}\\t ycenter : {ycenter}\\t w : {w}\\t h : {h}')\n",
    "\n",
    "        if name in pickup:\n",
    "            obj_class = 0\n",
    "        elif name in suv:\n",
    "            obj_class = 1\n",
    "        elif name in mini_car:\n",
    "            obj_class = 2\n",
    "        elif name in sedan:\n",
    "            obj_class = 3\n",
    "        elif name in van:\n",
    "            obj_class = 4\n",
    "        elif name in htv:\n",
    "            obj_class = 5\n",
    "        elif name in bike:\n",
    "            obj_class = 6\n",
    "        elif name in mini:\n",
    "            obj_class = 7\n",
    "        else:\n",
    "            continue\n",
    "            # print(f'class for {name} not found')\n",
    "\n",
    "        # writing to file\n",
    "        file.write(f'{obj_class} {xcenter} {ycenter} {w} {h}\\n')\n",
    "\n",
    "    file.close()"
   ]
  },
  {
   "cell_type": "code",
   "execution_count": null,
   "id": "0af83aef-29f8-4e68-bcef-b7a37ff2c507",
   "metadata": {},
   "outputs": [],
   "source": []
  }
 ],
 "metadata": {
  "kernelspec": {
   "display_name": "Python 3 (ipykernel)",
   "language": "python",
   "name": "python3"
  },
  "language_info": {
   "codemirror_mode": {
    "name": "ipython",
    "version": 3
   },
   "file_extension": ".py",
   "mimetype": "text/x-python",
   "name": "python",
   "nbconvert_exporter": "python",
   "pygments_lexer": "ipython3",
   "version": "3.9.18"
  }
 },
 "nbformat": 4,
 "nbformat_minor": 5
}
