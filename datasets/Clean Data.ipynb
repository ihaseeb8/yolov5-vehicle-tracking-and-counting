{
 "cells": [
  {
   "cell_type": "markdown",
   "id": "f31bbd77-ccf6-47dc-97a3-465c72db4ba2",
   "metadata": {},
   "source": [
    "## Importing Required Libraries"
   ]
  },
  {
   "cell_type": "code",
   "execution_count": 49,
   "id": "be4476a9-7c91-4567-bd79-c7bd0160e389",
   "metadata": {},
   "outputs": [],
   "source": [
    "import os\n",
    "import xml.etree.ElementTree as ET\n",
    "from collections import Counter\n",
    "import matplotlib.pyplot as plt\n",
    "import plotly.graph_objects as go\n",
    "import cv2\n",
    "import glob\n",
    "%matplotlib inline"
   ]
  },
  {
   "cell_type": "markdown",
   "id": "4eebf428-0c2b-46c4-b1f8-301a79cdc86b",
   "metadata": {},
   "source": [
    "### Analyzing files"
   ]
  },
  {
   "cell_type": "code",
   "execution_count": 6,
   "id": "7088c239-1184-4712-981e-4b8623bba5a7",
   "metadata": {},
   "outputs": [
    {
     "name": "stdout",
     "output_type": "stream",
     "text": [
      "Number of Annotations : 90466\n"
     ]
    }
   ],
   "source": [
    "print('Number of Annotations',end=' : ')\n",
    "print(len(os.listdir('Annotations')))"
   ]
  },
  {
   "cell_type": "code",
   "execution_count": 7,
   "id": "ef120ba5-9cac-4b39-813b-19d8ec7b65fb",
   "metadata": {},
   "outputs": [
    {
     "name": "stdout",
     "output_type": "stream",
     "text": [
      "Number of  Images : 101107\n"
     ]
    }
   ],
   "source": [
    "print('Number of  Images',end=' : ')\n",
    "print(len(os.listdir('JPEGImages')))"
   ]
  },
  {
   "cell_type": "markdown",
   "id": "39b8ca9e-53fe-4289-a842-e8cba241f67e",
   "metadata": {},
   "source": [
    "## 1. Deleting images that dont have any annotations"
   ]
  },
  {
   "cell_type": "code",
   "execution_count": 46,
   "id": "c06d59f7-18df-48e8-ab70-0b7a396d7724",
   "metadata": {},
   "outputs": [],
   "source": [
    "for filename in os.listdir('JPEGImages'):\n",
    "    # print(filename)\n",
    "\n",
    "    try:\n",
    "        filename, extension = filename.split('.')\n",
    "    except Exception as error:\n",
    "        print(error)\n",
    "        os.remove(f'JPEGImages/{filename}')  # removes pictures that dont have any extension\n",
    "        continue\n",
    "    \n",
    "    # print(filename,extension)\n",
    "    \n",
    "    if not(os.path.exists(f'Annotations/{filename}.xml')):\n",
    "        os.remove(f'JPEGImages/{filename}.{extension}')      # removes pictures that dont have any annotations"
   ]
  },
  {
   "cell_type": "code",
   "execution_count": 62,
   "id": "f4187380-38b5-40c6-8470-2563b605f24e",
   "metadata": {},
   "outputs": [
    {
     "name": "stdout",
     "output_type": "stream",
     "text": [
      "Number of Annotations : 90466\n"
     ]
    }
   ],
   "source": [
    "print('Number of Annotations',end=' : ')\n",
    "print(len(os.listdir('Annotations')))"
   ]
  },
  {
   "cell_type": "code",
   "execution_count": 63,
   "id": "215438ea-0a50-4d58-91d9-72717d0d31e5",
   "metadata": {},
   "outputs": [
    {
     "name": "stdout",
     "output_type": "stream",
     "text": [
      "Number of  Images : 90432\n"
     ]
    }
   ],
   "source": [
    "print('Number of  Images',end=' : ')\n",
    "print(len(os.listdir('JPEGImages')))"
   ]
  },
  {
   "cell_type": "code",
   "execution_count": null,
   "id": "a0fff7b9-5782-416c-be1b-2593284b1d20",
   "metadata": {},
   "outputs": [],
   "source": []
  }
 ],
 "metadata": {
  "kernelspec": {
   "display_name": "Python 3 (ipykernel)",
   "language": "python",
   "name": "python3"
  },
  "language_info": {
   "codemirror_mode": {
    "name": "ipython",
    "version": 3
   },
   "file_extension": ".py",
   "mimetype": "text/x-python",
   "name": "python",
   "nbconvert_exporter": "python",
   "pygments_lexer": "ipython3",
   "version": "3.9.18"
  }
 },
 "nbformat": 4,
 "nbformat_minor": 5
}
