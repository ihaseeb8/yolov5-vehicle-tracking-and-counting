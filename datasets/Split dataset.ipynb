{
 "cells": [
  {
   "cell_type": "code",
   "execution_count": 11,
   "id": "663aa269-1c75-499c-b466-ed72edbf1172",
   "metadata": {},
   "outputs": [],
   "source": [
    "import os\n",
    "import shutil\n",
    "import numpy as np"
   ]
  },
  {
   "cell_type": "code",
   "execution_count": 12,
   "id": "269b596c-ff18-4e15-b2e2-4f8614c0911f",
   "metadata": {},
   "outputs": [],
   "source": [
    "images_dir = 'JPEGImages'\n",
    "labels_dir = 'Labels'\n",
    "\n",
    "filenames = os.listdir(images_dir)\n",
    "\n",
    "# Shuffling file names\n",
    "np.random.shuffle(filenames)\n",
    "\n",
    "# split ratio\n",
    "train_ratio = 0.9\n",
    "num_train = int(train_ratio * len(filenames))\n",
    "\n",
    "train_filenames = filenames[:num_train]\n",
    "val_filenames = filenames[num_train:]\n",
    "\n",
    "# Defining directories\n",
    "train_images_dir = 'images/train'\n",
    "train_labels_dir = 'labels/train'\n",
    "val_images_dir = 'images/val'\n",
    "val_labels_dir = 'labels/val'\n",
    "\n",
    "# Creating directotries\n",
    "os.makedirs(train_images_dir, exist_ok=True)\n",
    "os.makedirs(train_labels_dir, exist_ok=True)\n",
    "os.makedirs(val_images_dir, exist_ok=True)\n",
    "os.makedirs(val_labels_dir, exist_ok=True)\n",
    "\n",
    "# copying files\n",
    "def copy_files(filenames, source_images_dir, source_labels_dir, target_images_dir, target_labels_dir):\n",
    "    for filename in filenames:\n",
    "        image_filename = filename\n",
    "\n",
    "        fn,_ = filename.split('.')\n",
    "        \n",
    "        label_filename = f'{fn}.txt'\n",
    "\n",
    "        shutil.copy2(os.path.join(source_images_dir, image_filename), os.path.join(target_images_dir, image_filename))\n",
    "        shutil.copy2(os.path.join(source_labels_dir, label_filename), os.path.join(target_labels_dir, label_filename))\n",
    "\n",
    "\n",
    "copy_files(train_filenames, images_dir, labels_dir, train_images_dir, train_labels_dir)\n",
    "copy_files(val_filenames, images_dir, labels_dir, val_images_dir, val_labels_dir)\n"
   ]
  },
  {
   "cell_type": "code",
   "execution_count": 13,
   "id": "1112455d-3e54-445f-938f-f16e7172cb28",
   "metadata": {},
   "outputs": [
    {
     "name": "stdout",
     "output_type": "stream",
     "text": [
      "81388\n",
      "81387\n",
      "9044\n",
      "9044\n"
     ]
    }
   ],
   "source": [
    "print(len(os.listdir('train/images')))\n",
    "print(len(os.listdir('train/labels')))\n",
    "print(len(os.listdir('val/images')))\n",
    "print(len(os.listdir('val/labels')))"
   ]
  },
  {
   "cell_type": "code",
   "execution_count": null,
   "id": "176b6840-e78a-481f-9cab-13ea518f34ca",
   "metadata": {},
   "outputs": [],
   "source": []
  }
 ],
 "metadata": {
  "kernelspec": {
   "display_name": "Python 3 (ipykernel)",
   "language": "python",
   "name": "python3"
  },
  "language_info": {
   "codemirror_mode": {
    "name": "ipython",
    "version": 3
   },
   "file_extension": ".py",
   "mimetype": "text/x-python",
   "name": "python",
   "nbconvert_exporter": "python",
   "pygments_lexer": "ipython3",
   "version": "3.9.18"
  }
 },
 "nbformat": 4,
 "nbformat_minor": 5
}
